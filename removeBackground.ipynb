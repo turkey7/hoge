{
  "nbformat": 4,
  "nbformat_minor": 0,
  "metadata": {
    "colab": {
      "name": "removeBackground.ipynb",
      "provenance": [],
      "collapsed_sections": [],
      "mount_file_id": "1ihFj8-EEbQ-j3vGYpPqkA8phhOQaszMc",
      "authorship_tag": "ABX9TyNE8pH9wGbxvmOkM5RcRc0R",
      "include_colab_link": true
    },
    "kernelspec": {
      "name": "python3",
      "display_name": "Python 3"
    },
    "language_info": {
      "name": "python"
    },
    "accelerator": "GPU",
    "gpuClass": "standard"
  },
  "cells": [
    {
      "cell_type": "markdown",
      "metadata": {
        "id": "view-in-github",
        "colab_type": "text"
      },
      "source": [
        "<a href=\"https://colab.research.google.com/github/turkey7/hoge/blob/master/removeBackground.ipynb\" target=\"_parent\"><img src=\"https://colab.research.google.com/assets/colab-badge.svg\" alt=\"Open In Colab\"/></a>"
      ]
    },
    {
      "cell_type": "code",
      "execution_count": null,
      "metadata": {
        "id": "XCD81Wq6LTkB"
      },
      "outputs": [],
      "source": [
        "import numpy as np\n",
        "import cv2\n",
        "import matplotlib.pyplot as plt\n",
        "\n",
        "import torch\n",
        "import torchvision\n",
        "from torchvision import transforms\n",
        "\n",
        "#変数\n",
        "home_path = '/content/drive/Othercomputers/マイ パソコン/google drive/python/Movie/removeBackground/'\n",
        "\n",
        "#Trimap生成\n",
        "def gen_trimap(mask,k_size=(5,5),ite=1):\n",
        "    kernel = np.ones(k_size,np.uint8)\n",
        "    eroded = cv2.erode(mask,kernel,iterations = ite)\n",
        "    dilated = cv2.dilate(mask,kernel,iterations = ite)\n",
        "    trimap = np.full(mask.shape,128)\n",
        "    trimap[eroded == 255] = 255\n",
        "    trimap[dilated == 0] = 0\n",
        "    return trimap\n",
        "\n",
        "# =========================================================================================================================================================\n",
        "\n",
        "#画像読み込み\n",
        "file_name = 'test.jpg'\n",
        "image_path = home_path + '1_input/' + file_name\n",
        "img = cv2.imread(image_path)\n",
        "img = img[...,::-1] #BGR->RGB\n",
        "h,w,_ = img.shape\n",
        "img = cv2.resize(img,(320,320))\n",
        "\n",
        "#モデルをデバイスに渡す　推論モードに切り替え\n",
        "device = torch.device(\"cuda:0\" if torch.cuda.is_available() else \"cpu\")\n",
        "model = torchvision.models.segmentation.deeplabv3_resnet101(pretrained=True)\n",
        "model = model.to(device)\n",
        "model.eval();\n",
        "\n",
        "#画像をTensor型にして正規化 バッチの次元追加\n",
        "preprocess = transforms.Compose([\n",
        "    transforms.ToTensor(),\n",
        "    transforms.Normalize(mean=[0.485, 0.456, 0.406], std=[0.229, 0.224, 0.225]),\n",
        "])\n",
        "input_tensor = preprocess(img)\n",
        "input_batch = input_tensor.unsqueeze(0).to(device)\n",
        "\n",
        "#推論してマスク画像を表示\n",
        "with torch.no_grad():\n",
        "    output = model(input_batch)['out'][0]\n",
        "output = output.argmax(0)\n",
        "mask = output.byte().cpu().numpy()\n",
        "mask = cv2.resize(mask,(w,h))\n",
        "img = cv2.resize(img,(w,h))\n",
        "plt.gray()\n",
        "plt.figure(figsize=(20,20))\n",
        "plt.subplot(1,2,1)\n",
        "plt.imshow(img)\n",
        "plt.subplot(1,2,2)\n",
        "plt.imshow(mask);\n",
        "\n",
        "#Trimmapを生成して保存\n",
        "trimap = gen_trimap(mask,k_size=(10,10),ite=5)\n",
        "cv2.imwrite(home_path + '2_trimap/' + file_name,trimap)\n",
        "plt.figure(figsize=(20,20))\n",
        "plt.subplot(1,2,1)\n",
        "plt.imshow(img)\n",
        "plt.subplot(1,2,2)\n",
        "plt.imshow(trimap)\n",
        "\n",
        "\n",
        "\n"
      ]
    }
  ]
}